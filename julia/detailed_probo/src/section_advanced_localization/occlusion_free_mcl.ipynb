{
 "cells": [
  {
   "cell_type": "code",
   "execution_count": 16,
   "metadata": {},
   "outputs": [
    {
     "name": "stderr",
     "output_type": "stream",
     "text": [
      "WARNING: replacing module OcclusionFreeMclWorld.\n",
      "WARNING: using Distributions.Estimator in module MclWorld conflicts with an existing identifier.\n"
     ]
    },
    {
     "data": {
      "text/plain": [
       "Main.OcclusionFreeMclWorld"
      ]
     },
     "execution_count": 16,
     "metadata": {},
     "output_type": "execute_result"
    }
   ],
   "source": [
    "module OcclusionFreeMclWorld\n",
    "\n",
    "using Plots\n",
    "using Distributions\n",
    "using StatsBase\n",
    "using LinearAlgebra\n",
    "using Printf\n",
    "using Logging\n",
    "Logging.disable_logging(Logging.Info)\n",
    "\n",
    "include(\"../scripts/mcl.jl\")\n",
    "import .MclWorld: RealRobot, RealCamera\n",
    "import .MclWorld: IdealAgent, Agent, EstimationAgent, Landmark, Map, Camera, Robot, World\n",
    "import .MclWorld: data, decision, state_transition, circle_shape, draw, append\n",
    "import .MclWorld: Mcl, Estimator, Particle, set_ml, motion_update, observation_update, resampling_system\n",
    "\n",
    "mutable struct OcclusionFreeParticle\n",
    "    pose::Array{Float64}\n",
    "    weight::Float64\n",
    "\n",
    "    function OcclusionFreeParticle(\n",
    "        pose,\n",
    "        weight)\n",
    "\n",
    "        new(\n",
    "            pose,\n",
    "            weight\n",
    "        )\n",
    "    end\n",
    "\n",
    "end\n",
    "\n",
    "function motion_update(self::OcclusionFreeParticle, nu, omega, time, noise_rate_pdf)\n",
    "    ns = rand(noise_rate_pdf)\n",
    "    noised_nu = nu + ns[1] * sqrt(abs(nu)/time) + ns[2] * sqrt(abs(omega)/time)\n",
    "    noised_omega = omega + ns[3] * sqrt(abs(nu)/time) + ns[4] * sqrt(abs(omega)/time)\n",
    "    self.pose = state_transition(noised_nu, noised_omega, time, self.pose)    \n",
    "end\n",
    "\n",
    "function observation_update(self::OcclusionFreeParticle, observation, map, distance_dev_rate, direction_dev)\n",
    "    for (key, value) in observation\n",
    "        \n",
    "        obs_pos = value\n",
    "        obs_id = key\n",
    "\n",
    "        pos_on_map = map.landmarks[obs_id].pos        \n",
    "        particle_suggest_pos=observation_function(self.pose, pos_on_map)\n",
    "\n",
    "        distance_dev = distance_dev_rate*particle_suggest_pos[1]\n",
    "        cov = diagm([distance_dev^2, direction_dev^2]) #ここまでParticleFilterと同じ実装\n",
    "        if obs_pos[1] > particle_suggest_pos[1] #観測された距離がパーティクルから計算される距離より大きい場合\n",
    "           obs_pos[1] = particle_suggest_pos[1] #パーティクルから計算される距離で観測された距離を置き換える\n",
    "        end\n",
    "        self.weight = self.weight * pdf(MvNormal(particle_suggest_pos, cov), obs_pos)\n",
    "    end\n",
    "end\n",
    "\n",
    "end"
   ]
  },
  {
   "cell_type": "code",
   "execution_count": 23,
   "metadata": {},
   "outputs": [
    {
     "ename": "LoadError",
     "evalue": "MethodError: \u001b[0mCannot `convert` an object of type \u001b[92mMain.OcclusionFreeMclWorld.OcclusionFreeParticle\u001b[39m\u001b[0m to an object of type \u001b[91mMain.OcclusionFreeMclWorld.MclWorld.Particle\u001b[39m\n\u001b[0mClosest candidates are:\n\u001b[0m  convert(::Type{T}, \u001b[91m::T\u001b[39m) where T at /usr/local/src/julia-1.7.1/share/julia/base/essentials.jl:218\n\u001b[0m  Main.OcclusionFreeMclWorld.MclWorld.Particle(::Any, \u001b[91m::Any\u001b[39m) at ~/workspace/github/code-practice/julia/detailed_probo/src/scripts/mcl.jl:23",
     "output_type": "error",
     "traceback": [
      "MethodError: \u001b[0mCannot `convert` an object of type \u001b[92mMain.OcclusionFreeMclWorld.OcclusionFreeParticle\u001b[39m\u001b[0m to an object of type \u001b[91mMain.OcclusionFreeMclWorld.MclWorld.Particle\u001b[39m\n\u001b[0mClosest candidates are:\n\u001b[0m  convert(::Type{T}, \u001b[91m::T\u001b[39m) where T at /usr/local/src/julia-1.7.1/share/julia/base/essentials.jl:218\n\u001b[0m  Main.OcclusionFreeMclWorld.MclWorld.Particle(::Any, \u001b[91m::Any\u001b[39m) at ~/workspace/github/code-practice/julia/detailed_probo/src/scripts/mcl.jl:23",
      "",
      "Stacktrace:",
      "  [1] setindex!(A::Vector{Main.OcclusionFreeMclWorld.MclWorld.Particle}, x::Main.OcclusionFreeMclWorld.OcclusionFreeParticle, i1::Int64)",
      "    @ Base ./array.jl:903",
      "  [2] _unsafe_copyto!(dest::Vector{Main.OcclusionFreeMclWorld.MclWorld.Particle}, doffs::Int64, src::Vector{Main.OcclusionFreeMclWorld.OcclusionFreeParticle}, soffs::Int64, n::Int64)",
      "    @ Base ./array.jl:253",
      "  [3] unsafe_copyto!",
      "    @ ./array.jl:307 [inlined]",
      "  [4] _copyto_impl!",
      "    @ ./array.jl:331 [inlined]",
      "  [5] copyto!",
      "    @ ./array.jl:317 [inlined]",
      "  [6] copyto!",
      "    @ ./array.jl:343 [inlined]",
      "  [7] copyto_axcheck!",
      "    @ ./abstractarray.jl:1104 [inlined]",
      "  [8] Vector{Main.OcclusionFreeMclWorld.MclWorld.Particle}(x::Vector{Main.OcclusionFreeMclWorld.OcclusionFreeParticle})",
      "    @ Base ./array.jl:563",
      "  [9] Array",
      "    @ ./boot.jl:482 [inlined]",
      " [10] convert(#unused#::Type{Array{Main.OcclusionFreeMclWorld.MclWorld.Particle}}, a::Vector{Main.OcclusionFreeMclWorld.OcclusionFreeParticle})",
      "    @ Base ./array.jl:554",
      " [11] setproperty!(x::Main.OcclusionFreeMclWorld.MclWorld.Mcl, f::Symbol, v::Vector{Main.OcclusionFreeMclWorld.OcclusionFreeParticle})",
      "    @ Base ./Base.jl:43",
      " [12] top-level scope",
      "    @ In[23]:15",
      " [13] eval",
      "    @ ./boot.jl:373 [inlined]",
      " [14] include_string(mapexpr::typeof(REPL.softscope), mod::Module, code::String, filename::String)",
      "    @ Base ./loading.jl:1196"
     ]
    }
   ],
   "source": [
    "using .OcclusionFreeMclWorld\n",
    "\n",
    "time_interval = 0.1    \n",
    "world = OcclusionFreeMclWorld.World(30, 0.1)\n",
    "\n",
    "### 地図を生成して３つランドマークを追加 ###\n",
    "m = OcclusionFreeMclWorld.Map()\n",
    "OcclusionFreeMclWorld.append(m, OcclusionFreeMclWorld.Landmark([-4, 2]))\n",
    "OcclusionFreeMclWorld.append(m, OcclusionFreeMclWorld.Landmark([2, -3]))\n",
    "OcclusionFreeMclWorld.append(m, OcclusionFreeMclWorld.Landmark([3, 3]))\n",
    "OcclusionFreeMclWorld.append(world, m)\n",
    "\n",
    "initial_pose = [0, 0, 0]\n",
    "pf = OcclusionFreeMclWorld.Mcl(initial_pose, 100, map=m)\n",
    "pf.particles=[OcclusionFreeMclWorld.OcclusionFreeParticle(initial_pose, 1.0/100) for i in 1:100]\n",
    "circling = OcclusionFreeMclWorld.EstimationAgent(time_interval, 0.2, 10.0/180.0*pi, pf)\n",
    "r = OcclusionFreeMclWorld.RealRobot(initial_pose, :red, 0.2, circling, sensor=OcclusionFreeMclWorld.RealCamera(m, occlusion_prob=0.5))\n",
    "OcclusionFreeMclWorld.append(world, r)\n",
    "\n",
    "OcclusionFreeMclWorld.draw(world)"
   ]
  },
  {
   "cell_type": "code",
   "execution_count": null,
   "metadata": {},
   "outputs": [],
   "source": []
  },
  {
   "cell_type": "code",
   "execution_count": null,
   "metadata": {},
   "outputs": [],
   "source": []
  }
 ],
 "metadata": {
  "kernelspec": {
   "display_name": "Julia 1.7.1",
   "language": "julia",
   "name": "julia-1.7"
  },
  "language_info": {
   "file_extension": ".jl",
   "mimetype": "application/julia",
   "name": "julia",
   "version": "1.7.1"
  }
 },
 "nbformat": 4,
 "nbformat_minor": 2
}
