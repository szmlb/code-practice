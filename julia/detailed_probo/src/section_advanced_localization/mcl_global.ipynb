{
 "cells": [
  {
   "cell_type": "code",
   "execution_count": 76,
   "metadata": {},
   "outputs": [
    {
     "name": "stderr",
     "output_type": "stream",
     "text": [
      "WARNING: replacing module GlobalMclWorld.\n",
      "WARNING: using Distributions.Estimator in module MclWorld conflicts with an existing identifier.\n"
     ]
    },
    {
     "data": {
      "text/plain": [
       "Main.GlobalMclWorld"
      ]
     },
     "execution_count": 76,
     "metadata": {},
     "output_type": "execute_result"
    }
   ],
   "source": [
    "module GlobalMclWorld\n",
    "\n",
    "using Plots\n",
    "using Distributions\n",
    "using StatsBase\n",
    "using LinearAlgebra\n",
    "using Printf\n",
    "using Logging\n",
    "Logging.disable_logging(Logging.Info)\n",
    "\n",
    "include(\"../scripts/mcl.jl\")\n",
    "import .MclWorld: RealRobot, RealCamera\n",
    "import .MclWorld: IdealAgent, Agent, EstimationAgent, Landmark, Map, Camera, Robot, World\n",
    "import .MclWorld: data, decision, state_transition, circle_shape, draw, append\n",
    "import .MclWorld: Estimator, Particle, set_ml, motion_update, observation_update, get_estimated_pose\n",
    "\n",
    "mutable struct GlobalMcl <: Estimator\n",
    "    num::Int64\n",
    "    init_pose::Array{Float64}\n",
    "    map::Map\n",
    "    particles::Array{Particle}\n",
    "    distance_dev_rate::Float64\n",
    "    direction_dev::Float64\n",
    "    motion_noise_rate_pdf::MvNormal\n",
    "    ml::Particle\n",
    "    pose::Array{Float64}\n",
    "    widths::Array{Float64}\n",
    "    epsilon::Float64\n",
    "    delta::Float64\n",
    "    binnum::Int64\n",
    "\n",
    "    function GlobalMcl(\n",
    "        num;\n",
    "        init_pose=[0.0, 0.0, 0.0],\n",
    "        map=Map(),\n",
    "        particles=[Particle(init_pose, 1.0/num) for i in 1:num],\n",
    "        distance_dev_rate=0.14,\n",
    "        direction_dev=0.05,\n",
    "        motion_noise_stds=Dict([(\"nn\", 0.19), (\"no\", 0.001), (\"on\", 0.13), (\"oo\", 0.2)]),\n",
    "        ml = particles[1],\n",
    "        pose = ml.pose,\n",
    "        widths=[0.2, 0.2, pi/18.0],\n",
    "        epsilon=0.1,\n",
    "        delta=0.01,\n",
    "        binnum=0\n",
    "        )\n",
    "    \n",
    "        c = diagm([motion_noise_stds[\"nn\"]^2, motion_noise_stds[\"no\"]^2, motion_noise_stds[\"on\"]^2, motion_noise_stds[\"oo\"]^2])\n",
    "        motion_noise_rate_pdf = MvNormal([0, 0, 0, 0], c)\n",
    "\n",
    "        updated_particles = [deepcopy(p) for p in particles]\n",
    "        for p in updated_particles\n",
    "            p.pose = [rand(Uniform(-5, 5)), rand(Uniform(-5, 5)), rand(Uniform(-pi, pi))]\n",
    "        end\n",
    "    \n",
    "        new(\n",
    "            num,\n",
    "            init_pose,\n",
    "            map,\n",
    "            updated_particles,\n",
    "            distance_dev_rate,\n",
    "            direction_dev,\n",
    "            motion_noise_rate_pdf,\n",
    "            ml,\n",
    "            pose,\n",
    "            widths,\n",
    "            epsilon,\n",
    "            delta,\n",
    "            binnum\n",
    "        )\n",
    "    end\n",
    "\n",
    "end\n",
    "end"
   ]
  },
  {
   "cell_type": "code",
   "execution_count": 82,
   "metadata": {
    "scrolled": false
   },
   "outputs": [],
   "source": [
    "using .GlobalMclWorld\n",
    "using Distributions\n",
    "\n",
    "function trial(animation=true)\n",
    "    time_interval = 0.1    \n",
    "    world = GlobalMclWorld.World(30, 0.1)\n",
    "\n",
    "    ### 地図を生成して2つランドマークを追加 ###\n",
    "    m = GlobalMclWorld.Map()\n",
    "    GlobalMclWorld.append(m, GlobalMclWorld.Landmark([-4, 2]))\n",
    "    GlobalMclWorld.append(m, GlobalMclWorld.Landmark([2, -3]))\n",
    "    GlobalMclWorld.append(m, GlobalMclWorld.Landmark([3, 3]))\n",
    "    GlobalMclWorld.append(world, m)\n",
    "    \n",
    "    initial_pose = [rand(Uniform(-5, 5)), rand(Uniform(-5, 5)), rand(Uniform(-pi, pi))]\n",
    "    pf = GlobalMclWorld.GlobalMcl(100, map=m)\n",
    "    a = GlobalMclWorld.EstimationAgent(time_interval, 0.2, 10.0/180.0*pi, pf)\n",
    "    r = GlobalMclWorld.RealRobot(initial_pose, :red, 0.2, a, sensor=GlobalMclWorld.RealCamera(m))\n",
    "    GlobalMclWorld.append(world, r)\n",
    "\n",
    "    GlobalMclWorld.draw(world)\n",
    "\n",
    "    if animation == false\n",
    "        return r.pose, r.agent.estimator.pose\n",
    "    end\n",
    "end\n",
    "\n",
    "trial(false)"
   ]
  },
  {
   "cell_type": "code",
   "execution_count": 81,
   "metadata": {
    "scrolled": false
   },
   "outputs": [
    {
     "name": "stdout",
     "output_type": "stream",
     "text": [
      "1真値: [-2.305210950864303, -1.7111779796579363, 6.224017971036571]推定値: [-3.4753289566915546, 4.191825322079087, 5.561990572868877]誤差: 6.017858766029603\n",
      "2真値: [2.366541484134509, -5.1646122138068575, 6.032776783301852]推定値: [-0.14261383397671842, -3.4584452726743313, 3.9825994803613574]誤差: 3.0342817999354272\n",
      "3真値: [-4.251964455329023, 3.2554163070117736, 5.274270130115937]推定値: [4.127345433910882, -3.926319432544686, 7.179505322795648]誤差: 11.035858029747223\n",
      "4真値: [-0.5776876186470327, 6.026146740129892, 3.97878115719202]推定値: [-0.6816543517958172, 4.432930375909317, 3.6792158192496385]誤差: 1.5966049808333493\n",
      "5真値: [-1.603120748177144, -1.5210822053317772, 7.673737969915373]推定値: [3.7279271864348313, 3.8803396340022824, 2.558244330837366]誤差: 7.589165301109571\n"
     ]
    }
   ],
   "source": [
    "ok = 0\n",
    "for i in 1:5\n",
    "    actual, estm = trial(false)\n",
    "    diff = sqrt((actual[1]-estm[1])^2 + (actual[2]-estm[2])^2)\n",
    "    println(i, \"真値: \", actual, \"推定値: \", estm, \"誤差: \", diff)\n",
    "    if diff <= 1.0\n",
    "        ok = ok + 1\n",
    "    end\n",
    "end"
   ]
  }
 ],
 "metadata": {
  "kernelspec": {
   "display_name": "Julia 1.7.1",
   "language": "julia",
   "name": "julia-1.7"
  },
  "language_info": {
   "file_extension": ".jl",
   "mimetype": "application/julia",
   "name": "julia",
   "version": "1.7.1"
  }
 },
 "nbformat": 4,
 "nbformat_minor": 2
}
