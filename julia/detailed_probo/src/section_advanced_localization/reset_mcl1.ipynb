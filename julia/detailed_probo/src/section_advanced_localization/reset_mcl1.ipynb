{
 "cells": [
  {
   "cell_type": "code",
   "execution_count": 31,
   "metadata": {},
   "outputs": [
    {
     "name": "stderr",
     "output_type": "stream",
     "text": [
      "WARNING: replacing module ResetMclWorld.\n",
      "WARNING: using Distributions.Estimator in module MclWorld conflicts with an existing identifier.\n"
     ]
    },
    {
     "data": {
      "text/plain": [
       "Main.ResetMclWorld"
      ]
     },
     "execution_count": 31,
     "metadata": {},
     "output_type": "execute_result"
    }
   ],
   "source": [
    "module ResetMclWorld\n",
    "\n",
    "using Plots\n",
    "using Distributions\n",
    "using StatsBase\n",
    "using LinearAlgebra\n",
    "using Printf\n",
    "using Logging\n",
    "Logging.disable_logging(Logging.Info)\n",
    "\n",
    "include(\"../scripts/mcl.jl\")\n",
    "import .MclWorld: RealRobot, RealCamera\n",
    "import .MclWorld: IdealAgent, Agent, EstimationAgent, Landmark, Map, Camera, Robot, World\n",
    "import .MclWorld: data, decision, state_transition, circle_shape, draw, append\n",
    "import .MclWorld: Estimator, Particle, set_ml, motion_update, observation_update, resampling_system\n",
    "\n",
    "mutable struct ResetMcl <: Estimator\n",
    "    init_pose::Array{Float64}\n",
    "    num::Int64\n",
    "    map::Map\n",
    "    particles::Array{Particle}\n",
    "    distance_dev_rate::Float64\n",
    "    direction_dev::Float64\n",
    "    motion_noise_rate_pdf::MvNormal\n",
    "    ml::Particle\n",
    "    pose::Array{Float64}\n",
    "    alphas::Dict\n",
    "\n",
    "    function ResetMcl(\n",
    "        init_pose,\n",
    "        num;\n",
    "        map=Map(),\n",
    "        particles=[Particle(init_pose, 1.0/num) for i in 1:num],\n",
    "        distance_dev_rate=0.14,\n",
    "        direction_dev=0.05,\n",
    "        motion_noise_stds=Dict([(\"nn\", 0.19), (\"no\", 0.001), (\"on\", 0.13), (\"oo\", 0.2)]),\n",
    "        ml = particles[1],\n",
    "        pose = ml.pose,\n",
    "        alphas=Dict()\n",
    "        )\n",
    "    \n",
    "        c = diagm([motion_noise_stds[\"nn\"]^2, motion_noise_stds[\"no\"]^2, motion_noise_stds[\"on\"]^2, motion_noise_stds[\"oo\"]^2])\n",
    "        motion_noise_rate_pdf = MvNormal([0, 0, 0, 0], c)\n",
    "    \n",
    "        new(\n",
    "            init_pose,\n",
    "            num,\n",
    "            map,\n",
    "            particles,\n",
    "            distance_dev_rate,\n",
    "            direction_dev,\n",
    "            motion_noise_rate_pdf,\n",
    "            ml,\n",
    "            pose,\n",
    "            alphas\n",
    "        )\n",
    "    end\n",
    "\n",
    "end\n",
    "\n",
    "function observation_update(self::Estimator, observation)\n",
    "    for p in self.particles\n",
    "        observation_update(p, observation, self.map, self.distance_dev_rate, self.direction_dev)\n",
    "    end\n",
    "    \n",
    "    #alpha値の記録\n",
    "    alpha = sum([p.weight for p in self.particles])\n",
    "    obsnum = length(observation)\n",
    "    if !haskey(self.alphas, obsnum)\n",
    "        self.alphas[obsnum] = []\n",
    "    end\n",
    "    push!(self.alphas[obsnum], alpha)\n",
    "    \n",
    "    set_ml(self)\n",
    "    resampling_system(self)\n",
    "end\n",
    "\n",
    "end"
   ]
  },
  {
   "cell_type": "code",
   "execution_count": 32,
   "metadata": {},
   "outputs": [
    {
     "data": {
      "text/plain": [
       "Main.ResetMclWorld.ResetMcl([0.0, 0.0, 0.0], 100, Main.ResetMclWorld.MclWorld.RealRobotWorld.RobotWorld.Map(Main.ResetMclWorld.MclWorld.RealRobotWorld.RobotWorld.Landmark[Main.ResetMclWorld.MclWorld.RealRobotWorld.RobotWorld.Landmark([-4.0, 2.0], 1), Main.ResetMclWorld.MclWorld.RealRobotWorld.RobotWorld.Landmark([2.0, -3.0], 2), Main.ResetMclWorld.MclWorld.RealRobotWorld.RobotWorld.Landmark([3.0, 3.0], 3)]), Main.ResetMclWorld.MclWorld.Particle[Main.ResetMclWorld.MclWorld.Particle([-1.188956285263327, 2.313741464276541, 3.990050815361451], 0.01), Main.ResetMclWorld.MclWorld.Particle([-1.188956285263327, 2.313741464276541, 3.990050815361451], 0.01), Main.ResetMclWorld.MclWorld.Particle([-1.1890346697742922, 2.311776937447829, 4.04202705292135], 0.01), Main.ResetMclWorld.MclWorld.Particle([-1.1774326967239857, 2.3254875391667893, 3.998311876206066], 0.01), Main.ResetMclWorld.MclWorld.Particle([-1.1398317785263528, 2.368015519628099, 4.038352067846699], 0.01), Main.ResetMclWorld.MclWorld.Particle([-1.2417792827815035, 2.2461939936081747, 3.990383104997078], 0.01), Main.ResetMclWorld.MclWorld.Particle([-1.2252354467974145, 2.2645182019945485, 3.935398791665555], 0.01), Main.ResetMclWorld.MclWorld.Particle([-1.0676829475558691, 2.414966870042381, 4.032199614353884], 0.01), Main.ResetMclWorld.MclWorld.Particle([-1.0676829475558691, 2.414966870042381, 4.032199614353884], 0.01), Main.ResetMclWorld.MclWorld.Particle([-1.0628640804536749, 2.42140672028418, 4.053687725746303], 0.01)  …  Main.ResetMclWorld.MclWorld.Particle([-1.2058489988777454, 2.3200203110191078, 3.9428098642400258], 0.01), Main.ResetMclWorld.MclWorld.Particle([-1.2090497746965667, 2.3157033290962246, 3.9969853731119858], 0.01), Main.ResetMclWorld.MclWorld.Particle([-1.2124928731917881, 2.313294320592121, 3.952080822289821], 0.01), Main.ResetMclWorld.MclWorld.Particle([-1.27995083712457, 2.2298916166070093, 3.9385769893098033], 0.01), Main.ResetMclWorld.MclWorld.Particle([-1.1975215700119501, 2.3096546375958074, 4.036086085335668], 0.01), Main.ResetMclWorld.MclWorld.Particle([-1.2044150302212602, 2.302552642226047, 3.995538067807494], 0.01), Main.ResetMclWorld.MclWorld.Particle([-1.2300452657801748, 2.2732809923498913, 4.033497995117234], 0.01), Main.ResetMclWorld.MclWorld.Particle([-1.270432617460289, 2.237302012399092, 3.937575168557628], 0.01), Main.ResetMclWorld.MclWorld.Particle([-1.2411371858997216, 2.267400269445314, 4.062361385536782], 0.01), Main.ResetMclWorld.MclWorld.Particle([-1.329504835981526, 2.179083218782383, 3.961915890010178], 0.01)], 0.14, 0.05, FullNormal(\n",
       "dim: 4\n",
       "μ: [0.0, 0.0, 0.0, 0.0]\n",
       "Σ: [0.0361 0.0 0.0 0.0; 0.0 1.0e-6 0.0 0.0; 0.0 0.0 0.016900000000000002 0.0; 0.0 0.0 0.0 0.04000000000000001]\n",
       ")\n",
       ", Main.ResetMclWorld.MclWorld.Particle([-1.0025575231195185, 2.351211884414297, 4.010614664388015], 0.06958449748457905), [-1.0025575231195185, 2.351211884414297, 4.010614664388015], Dict{Any, Any}(0 => Any[1.0, 1.0, 1.0, 1.0, 1.0, 1.0, 1.0, 1.0, 1.0, 1.0  …  1.0, 1.0, 1.0, 1.0, 1.0, 1.0, 1.0, 1.0, 1.0, 1.0], 2 => Any[7.468356397769986, 1.6245328717616363], 1 => Any[3.4717793702603728, 2.42209209273757, 2.066245405228523, 2.6901945697948406, 2.3688247564662537, 1.0627670112011627, 3.2558144366116446, 1.2966955102362931, 1.8050818570262708, 2.4121588150836333  …  2.6514937830745877, 1.0984137979867983, 4.418881461063843, 4.511074074820376, 3.759751146860053, 2.0557521408427064, 5.179297280630362, 5.332692166263565, 5.317049595438403, 3.93088640487467]))"
      ]
     },
     "execution_count": 32,
     "metadata": {},
     "output_type": "execute_result"
    }
   ],
   "source": [
    "using .ResetMclWorld\n",
    "using Distributions\n",
    "\n",
    "function trial(animation=true)\n",
    "\n",
    "    time_interval = 0.1    \n",
    "    world = ResetMclWorld.World(30, 0.1)\n",
    "\n",
    "    ### 地図を生成して2つランドマークを追加 ###\n",
    "    m = ResetMclWorld.Map()\n",
    "    ResetMclWorld.append(m, ResetMclWorld.Landmark([-4, 2]))\n",
    "    ResetMclWorld.append(m, ResetMclWorld.Landmark([2, -3]))\n",
    "    ResetMclWorld.append(m, ResetMclWorld.Landmark([3, 3]))\n",
    "    ResetMclWorld.append(world, m)\n",
    "\n",
    "    initial_pose = [0.0, 0.0, 0.0]\n",
    "    pf = ResetMclWorld.ResetMcl(initial_pose, 100, map=m)\n",
    "    a = ResetMclWorld.EstimationAgent(time_interval, 0.2, 10.0/180.0*pi, pf)\n",
    "    r = ResetMclWorld.RealRobot(initial_pose, :red, 0.2, a, sensor=ResetMclWorld.RealCamera(m))\n",
    "    ResetMclWorld.append(world, r)\n",
    "\n",
    "    if animation\n",
    "        ResetMclWorld.draw(world)\n",
    "    else\n",
    "        ResetMclWorld.draw(world)\n",
    "        return pf\n",
    "    end\n",
    "end\n",
    "\n",
    "pf = trial(false)"
   ]
  },
  {
   "cell_type": "code",
   "execution_count": 33,
   "metadata": {},
   "outputs": [
    {
     "name": "stdout",
     "output_type": "stream",
     "text": [
      "landmarks: 0 particles: 100 min: 1.0 max: 1.0\n",
      "landmarks: 2 particles: 100 min: 1.6245328717616363 max: 7.468356397769986\n",
      "landmarks: 1 particles: 100 min: 0.08265269228456085 max: 8.39412140543331\n"
     ]
    }
   ],
   "source": [
    "for (key, val) in pf.alphas ###mclalpharesult\n",
    "    println(\"landmarks: \", key, \" particles: \", length(pf.particles), \" min: \", minimum(pf.alphas[key]), \" max: \", maximum(pf.alphas[key]))\n",
    "end"
   ]
  },
  {
   "cell_type": "code",
   "execution_count": 35,
   "metadata": {},
   "outputs": [
    {
     "data": {
      "text/plain": [
       "Main.ResetMclWorld.ResetMcl([-4.0, -4.0, 0.0], 100, Main.ResetMclWorld.MclWorld.RealRobotWorld.RobotWorld.Map(Main.ResetMclWorld.MclWorld.RealRobotWorld.RobotWorld.Landmark[Main.ResetMclWorld.MclWorld.RealRobotWorld.RobotWorld.Landmark([-4.0, 2.0], 1), Main.ResetMclWorld.MclWorld.RealRobotWorld.RobotWorld.Landmark([2.0, -3.0], 2), Main.ResetMclWorld.MclWorld.RealRobotWorld.RobotWorld.Landmark([3.0, 3.0], 3)]), Main.ResetMclWorld.MclWorld.Particle[Main.ResetMclWorld.MclWorld.Particle([-4.712475084235242, -3.2873398435359986, 5.210032470352772], 0.01), Main.ResetMclWorld.MclWorld.Particle([-4.947611408045768, -2.536298959420777, 5.174157161441324], 0.01), Main.ResetMclWorld.MclWorld.Particle([-4.039925932505328, -2.9660884978669446, 5.5304310544498465], 0.01), Main.ResetMclWorld.MclWorld.Particle([-5.134589668932652, -2.609448323120949, 4.496521208525135], 0.01), Main.ResetMclWorld.MclWorld.Particle([-4.2022131319981355, -2.6334428100888765, 5.703802671942405], 0.01), Main.ResetMclWorld.MclWorld.Particle([-4.3913881249014795, -3.0695149211170136, 4.592330162140788], 0.01), Main.ResetMclWorld.MclWorld.Particle([-5.336310195634819, -3.420331549044066, 4.7649624347521495], 0.01), Main.ResetMclWorld.MclWorld.Particle([-4.846622784690943, -3.494705331194953, 5.142567993594477], 0.01), Main.ResetMclWorld.MclWorld.Particle([-3.865828367279625, -3.802377886834015, 5.344103757716047], 0.01), Main.ResetMclWorld.MclWorld.Particle([-4.300209264951078, -3.4906520280511657, 5.31621365572176], 0.01)  …  Main.ResetMclWorld.MclWorld.Particle([-4.423583992206249, -3.8013969929899836, 4.946409028975573], 0.01), Main.ResetMclWorld.MclWorld.Particle([-3.768471366085387, -2.9975439647515207, 5.443051895644203], 0.01), Main.ResetMclWorld.MclWorld.Particle([-4.2054082104232435, -3.446006207587822, 5.215661100091326], 0.01), Main.ResetMclWorld.MclWorld.Particle([-4.451584991983228, -3.458880483912238, 5.152869177470051], 0.01), Main.ResetMclWorld.MclWorld.Particle([-3.5970366351935796, -3.3038068609448157, 5.941513823032798], 0.01), Main.ResetMclWorld.MclWorld.Particle([-4.519634096461019, -2.941445557566464, 5.4164557381435445], 0.01), Main.ResetMclWorld.MclWorld.Particle([-4.83721135654611, -2.846539516951954, 4.730821867554398], 0.01), Main.ResetMclWorld.MclWorld.Particle([-4.972632101181793, -3.7186874659591465, 4.956151549255493], 0.01), Main.ResetMclWorld.MclWorld.Particle([-5.323997293489164, -3.1800285920642164, 4.9884938755196], 0.01), Main.ResetMclWorld.MclWorld.Particle([-4.878958364833634, -2.9748334027020786, 5.140924711682782], 0.01)], 0.14, 0.05, FullNormal(\n",
       "dim: 4\n",
       "μ: [0.0, 0.0, 0.0, 0.0]\n",
       "Σ: [0.0361 0.0 0.0 0.0; 0.0 1.0e-6 0.0 0.0; 0.0 0.0 0.016900000000000002 0.0; 0.0 0.0 0.0 0.04000000000000001]\n",
       ")\n",
       ", Main.ResetMclWorld.MclWorld.Particle([-4.712475084235242, -3.2873398435359986, 5.210032470352772], 0.01), [-4.712475084235242, -3.2873398435359986, 5.210032470352772], Dict{Any, Any}(0 => Any[1.0, 1.0, 1.0, 1.0, 1.0, 1.0, 1.0, 1.0, 1.0, 1.0  …  1.0, 1.0, 1.0, 1.0, 1.0, 1.0, 1.0, 1.0, 1.0, 1.0], 2 => Any[1.4078557317789393, 2.1855638803666952, 6.928222335055505, 4.825794299013695, 3.5911169409853585, 2.3769624839317403, 6.482955539413388, 1.3943690850356656, 4.083822403331082, 4.207091384897867  …  3.897822306969078, 6.008629855389646, 3.3285177306829907, 0.14484347866560698, 0.9147350294627606, 5.893708051843738, 7.049893548954608, 0.6773054793243846, 1.2046523101566229, 0.7332463311015703], 1 => Any[1.9173088947086183, 1.4740239751569046, 1.3095676598434087, 2.475720031956644, 2.2031265034828604, 1.5046149483405176, 2.3156461836941444, 1.3917891004497822, 0.8312594461702819, 2.7510060916954364  …  1.9749350105566967, 3.774661442875402, 4.454526176105088, 3.5043770124426183, 1.9133745500390877, 4.523206706034675, 2.3098169369743147, 3.420497311095654, 3.698188248893455, 4.190528602690295]))"
      ]
     },
     "execution_count": 35,
     "metadata": {},
     "output_type": "execute_result"
    }
   ],
   "source": [
    "using .ResetMclWorld\n",
    "using Distributions\n",
    "\n",
    "function trial(animation=true)\n",
    "\n",
    "    time_interval = 0.1    \n",
    "    world = ResetMclWorld.World(30, 0.1)\n",
    "\n",
    "    ### 地図を生成して2つランドマークを追加 ###\n",
    "    m = ResetMclWorld.Map()\n",
    "    ResetMclWorld.append(m, ResetMclWorld.Landmark([-4, 2]))\n",
    "    ResetMclWorld.append(m, ResetMclWorld.Landmark([2, -3]))\n",
    "    ResetMclWorld.append(m, ResetMclWorld.Landmark([3, 3]))\n",
    "    ResetMclWorld.append(world, m)\n",
    "\n",
    "    initial_pose = [-4.0, -4.0, 0.0]\n",
    "    pf = ResetMclWorld.ResetMcl(initial_pose, 100, map=m)\n",
    "    a = ResetMclWorld.EstimationAgent(time_interval, 0.2, 10.0/180.0*pi, pf)\n",
    "    r = ResetMclWorld.RealRobot(initial_pose, :red, 0.2, a, sensor=ResetMclWorld.RealCamera(m))\n",
    "    ResetMclWorld.append(world, r)\n",
    "\n",
    "    if animation\n",
    "        ResetMclWorld.draw(world)\n",
    "    else\n",
    "        ResetMclWorld.draw(world)\n",
    "        return pf\n",
    "    end\n",
    "end\n",
    "\n",
    "pf = trial(false)"
   ]
  },
  {
   "cell_type": "code",
   "execution_count": 36,
   "metadata": {},
   "outputs": [
    {
     "name": "stdout",
     "output_type": "stream",
     "text": [
      "landmarks: 0 particles: 100 min: 1.0 max: 1.0\n",
      "landmarks: 2 particles: 100 min: 0.14484347866560698 max: 7.049893548954608\n",
      "landmarks: 1 particles: 100 min: 0.19699310999780262 max: 4.523206706034675\n"
     ]
    }
   ],
   "source": [
    "for (key, val) in pf.alphas ###mclalpharesult\n",
    "    println(\"landmarks: \", key, \" particles: \", length(pf.particles), \" min: \", minimum(pf.alphas[key]), \" max: \", maximum(pf.alphas[key]))\n",
    "end"
   ]
  }
 ],
 "metadata": {
  "kernelspec": {
   "display_name": "Julia 1.7.1",
   "language": "julia",
   "name": "julia-1.7"
  },
  "language_info": {
   "file_extension": ".jl",
   "mimetype": "application/julia",
   "name": "julia",
   "version": "1.7.1"
  }
 },
 "nbformat": 4,
 "nbformat_minor": 2
}
