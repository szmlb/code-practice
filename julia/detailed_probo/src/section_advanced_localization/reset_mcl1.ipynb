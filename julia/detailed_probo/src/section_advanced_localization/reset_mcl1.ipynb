{
 "cells": [
  {
   "cell_type": "code",
   "execution_count": 17,
   "metadata": {},
   "outputs": [
    {
     "name": "stderr",
     "output_type": "stream",
     "text": [
      "WARNING: replacing module ResetMclWorld.\n",
      "WARNING: using Distributions.Estimator in module MclWorld conflicts with an existing identifier.\n"
     ]
    },
    {
     "data": {
      "text/plain": [
       "Main.ResetMclWorld"
      ]
     },
     "execution_count": 17,
     "metadata": {},
     "output_type": "execute_result"
    }
   ],
   "source": [
    "module ResetMclWorld\n",
    "\n",
    "using Plots\n",
    "using Distributions\n",
    "using StatsBase\n",
    "using LinearAlgebra\n",
    "using Printf\n",
    "using Logging\n",
    "Logging.disable_logging(Logging.Info)\n",
    "\n",
    "include(\"../scripts/mcl.jl\")\n",
    "import .MclWorld: RealRobot, RealCamera\n",
    "import .MclWorld: IdealAgent, Agent, EstimationAgent, Landmark, Map, Camera, Robot, World\n",
    "import .MclWorld: data, decision, state_transition, circle_shape, draw, append\n",
    "import .MclWorld: Estimator, Particle, set_ml, motion_update, observation_update, resampling_system\n",
    "\n",
    "mutable struct ResetMcl <: Estimator\n",
    "    init_pose::Array{Float64}\n",
    "    num::Int64\n",
    "    map::Map\n",
    "    particles::Array{Particle}\n",
    "    distance_dev_rate::Float64\n",
    "    direction_dev::Float64\n",
    "    motion_noise_rate_pdf::MvNormal\n",
    "    ml::Particle\n",
    "    pose::Array{Float64}\n",
    "    alphas::Dict\n",
    "\n",
    "    function ResetMcl(\n",
    "        init_pose,\n",
    "        num;\n",
    "        map=Map(),\n",
    "        particles=[Particle(init_pose, 1.0)],\n",
    "        distance_dev_rate=0.14,\n",
    "        direction_dev=0.05,\n",
    "        motion_noise_stds=Dict([(\"nn\", 0.19), (\"no\", 0.001), (\"on\", 0.13), (\"oo\", 0.2)]),\n",
    "        ml = particles[1],\n",
    "        pose = ml.pose,\n",
    "        alphas=Dict()\n",
    "        )\n",
    "    \n",
    "        c = diagm([motion_noise_stds[\"nn\"]^2, motion_noise_stds[\"no\"]^2, motion_noise_stds[\"on\"]^2, motion_noise_stds[\"oo\"]^2])\n",
    "        motion_noise_rate_pdf = MvNormal([0, 0, 0, 0], c)\n",
    "    \n",
    "        new(\n",
    "            init_pose,\n",
    "            num,\n",
    "            map,\n",
    "            particles,\n",
    "            distance_dev_rate,\n",
    "            direction_dev,\n",
    "            motion_noise_rate_pdf,\n",
    "            ml,\n",
    "            pose,\n",
    "            alphas\n",
    "        )\n",
    "    end\n",
    "\n",
    "end\n",
    "\n",
    "function observation_update(self::Estimator, observation)\n",
    "    for p in self.particles\n",
    "        observation_update(p, observation, self.map, self.distance_dev_rate, self.direction_dev)\n",
    "    end\n",
    "    \n",
    "    #alpha値の記録\n",
    "    alpha = sum([p.weight for p in self.particles])\n",
    "    obsnum = length(observation)\n",
    "    if !haskey(self.alphas, obsnum)\n",
    "        self.alphas[obsnum] = []\n",
    "    end\n",
    "    push!(self.alphas[obsnum], alpha)\n",
    "    \n",
    "    set_ml(self)\n",
    "    resampling_system(self)\n",
    "end\n",
    "\n",
    "end"
   ]
  },
  {
   "cell_type": "code",
   "execution_count": 20,
   "metadata": {},
   "outputs": [
    {
     "data": {
      "text/plain": [
       "Main.ResetMclWorld.ResetMcl([0.0, 0.0, 0.0], 100, Main.ResetMclWorld.MclWorld.RealRobotWorld.RobotWorld.Map(Main.ResetMclWorld.MclWorld.RealRobotWorld.RobotWorld.Landmark[Main.ResetMclWorld.MclWorld.RealRobotWorld.RobotWorld.Landmark([-4.0, 2.0], 1), Main.ResetMclWorld.MclWorld.RealRobotWorld.RobotWorld.Landmark([2.0, -3.0], 2), Main.ResetMclWorld.MclWorld.RealRobotWorld.RobotWorld.Landmark([3.0, 3.0], 3)]), Main.ResetMclWorld.MclWorld.Particle[Main.ResetMclWorld.MclWorld.Particle([-0.7382751895703321, 0.5215779769855301, 5.190680636832354], 1.0)], 0.14, 0.05, FullNormal(\n",
       "dim: 4\n",
       "μ: [0.0, 0.0, 0.0, 0.0]\n",
       "Σ: [0.0361 0.0 0.0 0.0; 0.0 1.0e-6 0.0 0.0; 0.0 0.0 0.016900000000000002 0.0; 0.0 0.0 0.0 0.04000000000000001]\n",
       ")\n",
       ", Main.ResetMclWorld.MclWorld.Particle([-0.7382751895703321, 0.5215779769855301, 5.190680636832354], 1.0), [-0.7382751895703321, 0.5215779769855301, 5.190680636832354], Dict{Any, Any}(0 => Any[1.0, 1.0, 1.0, 1.0, 1.0, 1.0, 1.0, 1.0, 1.0, 1.0  …  1.0, 1.0, 1.0, 1.0, 1.0, 1.0, 1.0, 1.0, 1.0, 1.0], 2 => Any[6.634402611150081, 4.4855636744425915, 32.309800973410155], 1 => Any[3.823083569847135, 1.7701975701380497, 3.741582995177434, 2.603790621022634, 0.9620102690324991, 5.08712811636387, 3.6582631336869658, 2.8121557522081817, 4.166389069497419, 0.07067841384585472  …  3.1642966416833065e-6, 0.00010659567904893856, 9.672509555394726e-9, 6.640535741067803e-6, 9.667687667031509e-8, 1.2407592468923132e-6, 1.0765099320796486e-9, 1.0227407196711919e-7, 1.0967133118664876e-11, 1.6763897442896953e-9]))"
      ]
     },
     "execution_count": 20,
     "metadata": {},
     "output_type": "execute_result"
    }
   ],
   "source": [
    "using .ResetMclWorld\n",
    "using Distributions\n",
    "\n",
    "function trial(animation=true)\n",
    "\n",
    "    time_interval = 0.1    \n",
    "    world = ResetMclWorld.World(30, 0.1)\n",
    "\n",
    "    ### 地図を生成して2つランドマークを追加 ###\n",
    "    m = ResetMclWorld.Map()\n",
    "    ResetMclWorld.append(m, ResetMclWorld.Landmark([-4, 2]))\n",
    "    ResetMclWorld.append(m, ResetMclWorld.Landmark([2, -3]))\n",
    "    ResetMclWorld.append(m, ResetMclWorld.Landmark([3, 3]))\n",
    "    ResetMclWorld.append(world, m)\n",
    "\n",
    "    initial_pose = [0.0, 0.0, 0.0]\n",
    "    pf = ResetMclWorld.ResetMcl(initial_pose, 100, map=m)\n",
    "    a = ResetMclWorld.EstimationAgent(time_interval, 0.2, 10.0/180.0*pi, pf)\n",
    "    r = ResetMclWorld.RealRobot(initial_pose, :red, 0.2, a, sensor=ResetMclWorld.RealCamera(m))\n",
    "    ResetMclWorld.append(world, r)\n",
    "\n",
    "    if animation\n",
    "        ResetMclWorld.draw(world)\n",
    "    else\n",
    "        ResetMclWorld.draw(world)\n",
    "        return pf\n",
    "    end\n",
    "end\n",
    "\n",
    "pf = trial(false)"
   ]
  },
  {
   "cell_type": "code",
   "execution_count": 27,
   "metadata": {},
   "outputs": [
    {
     "name": "stdout",
     "output_type": "stream",
     "text": [
      "landmarks: 0 particles: 1 min: 1.0 max: 1.0\n",
      "landmarks: 2 particles: 1 min: 4.4855636744425915 max: 32.309800973410155\n",
      "landmarks: 1 particles: 1 min: 4.744580591880371e-45 max: 6.548231799610043\n"
     ]
    }
   ],
   "source": [
    "for (key, val) in pf.alphas ###mclalpharesult\n",
    "    println(\"landmarks: \", key, \" particles: \", length(pf.particles), \" min: \", minimum(pf.alphas[key]), \" max: \", maximum(pf.alphas[key]))\n",
    "end"
   ]
  }
 ],
 "metadata": {
  "kernelspec": {
   "display_name": "Julia 1.7.1",
   "language": "julia",
   "name": "julia-1.7"
  },
  "language_info": {
   "file_extension": ".jl",
   "mimetype": "application/julia",
   "name": "julia",
   "version": "1.7.1"
  }
 },
 "nbformat": 4,
 "nbformat_minor": 2
}
