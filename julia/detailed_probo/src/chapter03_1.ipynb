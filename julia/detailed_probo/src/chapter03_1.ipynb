{
 "cells": [
  {
   "cell_type": "code",
   "execution_count": 29,
   "metadata": {},
   "outputs": [
    {
     "ename": "LoadError",
     "evalue": "invalid redefinition of constant RobotWorld",
     "output_type": "error",
     "traceback": [
      "invalid redefinition of constant RobotWorld",
      "",
      "Stacktrace:",
      " [1] eval",
      "   @ ./boot.jl:373 [inlined]",
      " [2] include_string(mapexpr::typeof(REPL.softscope), mod::Module, code::String, filename::String)",
      "   @ Base ./loading.jl:1196"
     ]
    }
   ],
   "source": [
    "module RobotWorld\n",
    "\n",
    "    using Plots\n",
    "\n",
    "    mutable struct World\n",
    "        objects::Array{World}\n",
    "        World() = new()\n",
    "    end\n",
    "\n",
    "    function append(self::World, obj::World)\n",
    "        push!(self.objects, deepcopy(obj))\n",
    "    end\n",
    "\n",
    "    function draw(self::World)\n",
    "\n",
    "        # initialize a plot\n",
    "        plt = plot(\n",
    "            1,\n",
    "            label=\"trajectory\", \n",
    "            aspectratio=1,\n",
    "            xlim=(-5, 5),\n",
    "            ylim=(-5, 5),\n",
    "            xlabel=\"X\", \n",
    "            ylabel=\"Y\"\n",
    "        )\n",
    "\n",
    "        for obj in self.objects\n",
    "            draw(obj)\n",
    "        end\n",
    "    end\n",
    "\n",
    "end"
   ]
  },
  {
   "cell_type": "code",
   "execution_count": 27,
   "metadata": {},
   "outputs": [
    {
     "ename": "LoadError",
     "evalue": "invalid using path: \"RobotWorld\" does not name a module",
     "output_type": "error",
     "traceback": [
      "invalid using path: \"RobotWorld\" does not name a module",
      "",
      "Stacktrace:",
      " [1] top-level scope",
      "   @ In[27]:1",
      " [2] eval",
      "   @ ./boot.jl:373 [inlined]",
      " [3] include_string(mapexpr::typeof(REPL.softscope), mod::Module, code::String, filename::String)",
      "   @ Base ./loading.jl:1196"
     ]
    }
   ],
   "source": [
    "using .RobotWorld\n"
   ]
  },
  {
   "cell_type": "code",
   "execution_count": null,
   "metadata": {},
   "outputs": [],
   "source": []
  }
 ],
 "metadata": {
  "kernelspec": {
   "display_name": "Julia 1.7.1",
   "language": "julia",
   "name": "julia-1.7"
  },
  "language_info": {
   "file_extension": ".jl",
   "mimetype": "application/julia",
   "name": "julia",
   "version": "1.7.1"
  }
 },
 "nbformat": 4,
 "nbformat_minor": 2
}
