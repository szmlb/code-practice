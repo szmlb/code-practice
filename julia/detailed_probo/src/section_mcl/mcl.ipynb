{
 "cells": [
  {
   "cell_type": "code",
   "execution_count": 62,
   "metadata": {},
   "outputs": [
    {
     "name": "stderr",
     "output_type": "stream",
     "text": [
      "WARNING: replacing module MclWorld.\n"
     ]
    },
    {
     "data": {
      "text/plain": [
       "Main.MclWorld"
      ]
     },
     "execution_count": 62,
     "metadata": {},
     "output_type": "execute_result"
    }
   ],
   "source": [
    "module MclWorld\n",
    "\n",
    "using Plots\n",
    "using Distributions\n",
    "using LinearAlgebra\n",
    "using Printf\n",
    "\n",
    "include(\"../scripts/robot.jl\")\n",
    "import .RealRobotWorld: RealRobot, RealCamera\n",
    "import .RealRobotWorld: Agent, Landmark, Map, Camera, Robot, World\n",
    "import .RealRobotWorld: data, decision, state_transition, circle_shape, draw, append\n",
    "\n",
    "mutable struct Particle\n",
    "    pose::Array{Float64}\n",
    "\n",
    "    function Particle(\n",
    "        pose)\n",
    "\n",
    "        new(\n",
    "            pose\n",
    "        )\n",
    "    end\n",
    "\n",
    "end\n",
    "\n",
    "mutable struct Mcl\n",
    "    init_pose::Array{Float64}\n",
    "    num::Int64\n",
    "    particles::Array{Particle}\n",
    "    motion_noise_rate_pdf::MvNormal\n",
    "\n",
    "    function Mcl(\n",
    "        init_pose,\n",
    "        num;\n",
    "        particles=[Particle(init_pose) for i in 1:num],\n",
    "        motion_noise_stds::Dict   \n",
    "        )\n",
    "    \n",
    "        c = diagm([motion_noise_stds[\"nn\"]^2, motion_noise_stds[\"no\"]^2, motion_noise_stds[\"on\"]^2, motion_noise_stds[\"oo\"]^2])\n",
    "        motion_noise_rate_pdf = MvNormal([0, 0, 0, 0], c)\n",
    "    \n",
    "        new(\n",
    "            init_pose,\n",
    "            num,\n",
    "            particles,\n",
    "            motion_noise_rate_pdf\n",
    "        )\n",
    "    end\n",
    "\n",
    "end\n",
    "\n",
    "function draw(self::Mcl, plt)    \n",
    "    xs = [p.pose[1] for p in self.particles]\n",
    "    ys = [p.pose[2] for p in self.particles]\n",
    "    vxs = [cos(p.pose[3]) for p in self.particles]\n",
    "    vys = [sin(p.pose[3]) for p in self.particles]\n",
    "    quiver!(plt, xs, ys, quiver=(vxs, vys))\n",
    "end\n",
    "\n",
    "function motion_update(self::Mcl, nu, omega, time)\n",
    "   print(cov(self.motion_noise_rate_pdf)) \n",
    "end\n",
    "\n",
    "mutable struct EstimationAgent <: Agent\n",
    "    time_interval::Float64\n",
    "    nu::Float64\n",
    "    omega::Float64\n",
    "    estimator::Mcl\n",
    "\n",
    "    function EstimationAgent(\n",
    "        time_interval,\n",
    "        nu,\n",
    "        omega,\n",
    "        estimator)\n",
    "\n",
    "        new(\n",
    "            time_interval,\n",
    "            nu, \n",
    "            omega,\n",
    "            estimator\n",
    "        )\n",
    "    end\n",
    "end\n",
    "\n",
    "function draw(self::RealRobot, plt)\n",
    "    x, y, theta = self.pose\n",
    "    xn = x + self.r * cos(theta)\n",
    "    yn = y + self.r * sin(theta)\n",
    "    push!(self.poses, deepcopy(self.pose))\n",
    "\n",
    "    plot!(plt, [x, xn], [y, yn], c=self.color, label=\"\")\n",
    "    plot!(plt, circle_shape(x, y, self.r), seriestype=[:shape,], c=self.color, linecolor=:black, fillalpha=0.2, aspectratio=1, label=\"\")\n",
    "    plot!(plt, [p[1] for p in self.poses], [p[2] for p in self.poses], c=self.color, label=\"\") \n",
    "\n",
    "    if length(self.sensor.map.landmarks) > 0\n",
    "        draw(self.sensor, self.poses[end-1], plt) #1ステップ前の姿勢を使用; self.sensor.lastdataに対応させるため\n",
    "    end\n",
    "\n",
    "    draw(self.agent, plt) # added\n",
    "end\n",
    "\n",
    "function draw(self::EstimationAgent, plt)    \n",
    "    draw(self.estimator, plt)\n",
    "end\n",
    "\n",
    "end\n"
   ]
  },
  {
   "cell_type": "code",
   "execution_count": 64,
   "metadata": {},
   "outputs": [
    {
     "name": "stdout",
     "output_type": "stream",
     "text": [
      "[0.0001 0.0 0.0 0.0; 0.0 0.0004 0.0 0.0; 0.0 0.0 0.0009 0.0; 0.0 0.0 0.0 0.0016]"
     ]
    },
    {
     "name": "stderr",
     "output_type": "stream",
     "text": [
      "┌ Info: Saved animation to \n",
      "│   fn = /home/szmlb/workspace/github/code-practice/julia/detailed_probo/src/section_mcl/tmp.gif\n",
      "└ @ Plots /home/szmlb/.julia/packages/Plots/FI0vT/src/animation.jl:114\n"
     ]
    },
    {
     "data": {
      "text/html": [
       "<img src=\"data:image/gif;base64,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\" />"
      ],
      "text/plain": [
       "Plots.AnimatedGif(\"/home/szmlb/workspace/github/code-practice/julia/detailed_probo/src/section_mcl/tmp.gif\")"
      ]
     },
     "execution_count": 64,
     "metadata": {},
     "output_type": "execute_result"
    }
   ],
   "source": [
    "world = MclWorld.World(10, 1)\n",
    "\n",
    "### 地図を生成して３つランドマークを追加 ###\n",
    "m = MclWorld.Map()\n",
    "MclWorld.append(m, MclWorld.Landmark([2, -2]))\n",
    "MclWorld.append(m, MclWorld.Landmark([-1, -3]))\n",
    "MclWorld.append(m, MclWorld.Landmark([3, 3]))\n",
    "MclWorld.append(world, m)\n",
    "\n",
    "initial_pose = [2, 2, pi/6]\n",
    "estimator = MclWorld.Mcl(initial_pose, 100, motion_noise_stds=Dict([(\"nn\", 0.01), (\"no\", 0.02), (\"on\", 0.03), (\"oo\", 0.04)]))\n",
    "\n",
    "circling = MclWorld.EstimationAgent(0.1, 0.2, 10.0/180.0*pi, estimator)\n",
    "MclWorld.motion_update(estimator, 0.2, 10/180.0*pi, 0.1)\n",
    "\n",
    "r = MclWorld.RealRobot(initial_pose, :black, 0.2, circling)\n",
    "MclWorld.append(world, r)\n",
    "\n",
    "### アニメーション実行 ###\n",
    "MclWorld.draw(world)"
   ]
  },
  {
   "cell_type": "code",
   "execution_count": null,
   "metadata": {},
   "outputs": [],
   "source": []
  }
 ],
 "metadata": {
  "kernelspec": {
   "display_name": "Julia 1.7.1",
   "language": "julia",
   "name": "julia-1.7"
  },
  "language_info": {
   "file_extension": ".jl",
   "mimetype": "application/julia",
   "name": "julia",
   "version": "1.7.1"
  }
 },
 "nbformat": 4,
 "nbformat_minor": 2
}
